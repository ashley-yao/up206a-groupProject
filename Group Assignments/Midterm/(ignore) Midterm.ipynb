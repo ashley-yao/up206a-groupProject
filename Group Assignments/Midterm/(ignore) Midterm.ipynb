{
 "cells": [
  {
   "cell_type": "markdown",
   "metadata": {},
   "source": [
    "**Midterm: Parks and Public Transit Access in LA County**\n",
    "\n",
    "*Katrina Deloso & Ashley Yao*\n",
    "\n",
    "Research Question: "
   ]
  },
  {
   "cell_type": "markdown",
   "metadata": {},
   "source": [
    "Identification of Data Sources:"
   ]
  },
  {
   "cell_type": "code",
   "execution_count": 1,
   "metadata": {},
   "outputs": [],
   "source": [
    "# import libraries for: spatial data, plotting, network analysis, street network analysis, and basemaps\n",
    "\n",
    "import geopandas as gpd\n",
    "import matplotlib.pyplot as plt\n",
    "import networkx as nx\n",
    "import osmnx as ox\n",
    "import contextily as ctx"
   ]
  },
  {
   "cell_type": "markdown",
   "metadata": {},
   "source": [
    "*Bus Data Exploration*"
   ]
  },
  {
   "cell_type": "code",
   "execution_count": 2,
   "metadata": {},
   "outputs": [],
   "source": [
    "#import LA Bus Data\n",
    "bus = gpd.read_file('data/LineServingStops1219.shp')"
   ]
  },
  {
   "cell_type": "code",
   "execution_count": 3,
   "metadata": {},
   "outputs": [
    {
     "data": {
      "text/html": [
       "<div>\n",
       "<style scoped>\n",
       "    .dataframe tbody tr th:only-of-type {\n",
       "        vertical-align: middle;\n",
       "    }\n",
       "\n",
       "    .dataframe tbody tr th {\n",
       "        vertical-align: top;\n",
       "    }\n",
       "\n",
       "    .dataframe thead th {\n",
       "        text-align: right;\n",
       "    }\n",
       "</style>\n",
       "<table border=\"1\" class=\"dataframe\">\n",
       "  <thead>\n",
       "    <tr style=\"text-align: right;\">\n",
       "      <th></th>\n",
       "      <th>STOPNUM</th>\n",
       "      <th>LINE</th>\n",
       "      <th>DIR_A2</th>\n",
       "      <th>STOPNAME</th>\n",
       "      <th>LAT</th>\n",
       "      <th>LONG</th>\n",
       "      <th>geometry</th>\n",
       "    </tr>\n",
       "  </thead>\n",
       "  <tbody>\n",
       "    <tr>\n",
       "      <th>0</th>\n",
       "      <td>1</td>\n",
       "      <td>108</td>\n",
       "      <td>E</td>\n",
       "      <td>PARAMOUNT / SLAUSON</td>\n",
       "      <td>33.973248</td>\n",
       "      <td>-118.113113</td>\n",
       "      <td>POINT (-118.11311 33.97325)</td>\n",
       "    </tr>\n",
       "    <tr>\n",
       "      <th>1</th>\n",
       "      <td>1</td>\n",
       "      <td>265</td>\n",
       "      <td>S</td>\n",
       "      <td>PARAMOUNT / SLAUSON</td>\n",
       "      <td>33.973248</td>\n",
       "      <td>-118.113113</td>\n",
       "      <td>POINT (-118.11311 33.97325)</td>\n",
       "    </tr>\n",
       "    <tr>\n",
       "      <th>2</th>\n",
       "      <td>3</td>\n",
       "      <td>35</td>\n",
       "      <td>N</td>\n",
       "      <td>JEFFERSON / 10TH</td>\n",
       "      <td>34.025471</td>\n",
       "      <td>-118.328402</td>\n",
       "      <td>POINT (-118.32840 34.02547)</td>\n",
       "    </tr>\n",
       "    <tr>\n",
       "      <th>3</th>\n",
       "      <td>6</td>\n",
       "      <td>55</td>\n",
       "      <td>N</td>\n",
       "      <td>120TH \\ AUGUSTUS F HAWKINS</td>\n",
       "      <td>33.924696</td>\n",
       "      <td>-118.242222</td>\n",
       "      <td>POINT (-118.24222 33.92470)</td>\n",
       "    </tr>\n",
       "    <tr>\n",
       "      <th>4</th>\n",
       "      <td>6</td>\n",
       "      <td>120</td>\n",
       "      <td>W</td>\n",
       "      <td>120TH \\ AUGUSTUS F HAWKINS</td>\n",
       "      <td>33.924696</td>\n",
       "      <td>-118.242222</td>\n",
       "      <td>POINT (-118.24222 33.92470)</td>\n",
       "    </tr>\n",
       "  </tbody>\n",
       "</table>\n",
       "</div>"
      ],
      "text/plain": [
       "   STOPNUM  LINE DIR_A2                    STOPNAME        LAT        LONG  \\\n",
       "0        1   108      E         PARAMOUNT / SLAUSON  33.973248 -118.113113   \n",
       "1        1   265      S         PARAMOUNT / SLAUSON  33.973248 -118.113113   \n",
       "2        3    35      N            JEFFERSON / 10TH  34.025471 -118.328402   \n",
       "3        6    55      N  120TH \\ AUGUSTUS F HAWKINS  33.924696 -118.242222   \n",
       "4        6   120      W  120TH \\ AUGUSTUS F HAWKINS  33.924696 -118.242222   \n",
       "\n",
       "                      geometry  \n",
       "0  POINT (-118.11311 33.97325)  \n",
       "1  POINT (-118.11311 33.97325)  \n",
       "2  POINT (-118.32840 34.02547)  \n",
       "3  POINT (-118.24222 33.92470)  \n",
       "4  POINT (-118.24222 33.92470)  "
      ]
     },
     "execution_count": 3,
     "metadata": {},
     "output_type": "execute_result"
    }
   ],
   "source": [
    "bus.head()"
   ]
  },
  {
   "cell_type": "code",
   "execution_count": 4,
   "metadata": {},
   "outputs": [
    {
     "name": "stdout",
     "output_type": "stream",
     "text": [
      "<class 'geopandas.geodataframe.GeoDataFrame'>\n",
      "RangeIndex: 19066 entries, 0 to 19065\n",
      "Data columns (total 7 columns):\n",
      " #   Column    Non-Null Count  Dtype   \n",
      "---  ------    --------------  -----   \n",
      " 0   STOPNUM   19066 non-null  int64   \n",
      " 1   LINE      19066 non-null  int64   \n",
      " 2   DIR_A2    19066 non-null  object  \n",
      " 3   STOPNAME  19066 non-null  object  \n",
      " 4   LAT       19066 non-null  float64 \n",
      " 5   LONG      19066 non-null  float64 \n",
      " 6   geometry  19066 non-null  geometry\n",
      "dtypes: float64(2), geometry(1), int64(2), object(2)\n",
      "memory usage: 1.0+ MB\n"
     ]
    }
   ],
   "source": [
    "bus.info()"
   ]
  },
  {
   "cell_type": "code",
   "execution_count": 5,
   "metadata": {},
   "outputs": [],
   "source": [
    "busTest = bus.loc[bus['LINE'] == 35]"
   ]
  },
  {
   "cell_type": "code",
   "execution_count": 6,
   "metadata": {},
   "outputs": [
    {
     "data": {
      "text/plain": [
       "<matplotlib.axes._subplots.AxesSubplot at 0x7f70dee60b50>"
      ]
     },
     "execution_count": 6,
     "metadata": {},
     "output_type": "execute_result"
    },
    {
     "data": {
      "image/png": "[encoded data removed]",
      "text/plain": [
       "<Figure size 432x288 with 1 Axes>"
      ]
     },
     "metadata": {
      "needs_background": "light"
     },
     "output_type": "display_data"
    }
   ],
   "source": [
    "busTest.plot()"
   ]
  },
  {
   "cell_type": "code",
   "execution_count": null,
   "metadata": {},
   "outputs": [],
   "source": [
    "#taking bus line coordinates and turning them into place values\n",
    "place = (bus['LAT'],bus['LONG'])\n",
    "type(place)"
   ]
  },
  {
   "cell_type": "code",
   "execution_count": null,
   "metadata": {},
   "outputs": [],
   "source": [
    "# narrowing down for Elysian route Lines 2 and 4\n",
    "busELY = bus.loc[bus['LINE']==4]\n",
    "placeELY = (busELY['LAT'],busELY['LONG'])\n",
    "busELY.head()"
   ]
  },
  {
   "cell_type": "code",
   "execution_count": null,
   "metadata": {},
   "outputs": [],
   "source": [
    "# variables set\n",
    "network_type = 'walk'\n",
    "trip_times = [5,10,15]\n",
    "meters_per_minute = 75"
   ]
  },
  {
   "cell_type": "code",
   "execution_count": null,
   "metadata": {},
   "outputs": [],
   "source": [
    "#downloading street network\n",
    "def isomap(gdf):\n",
    "    G = ox.graph.graph_from_point(center_point,dist = 2000, dist_type='bbox',\n",
    "                              network_type='walk', simplify=True, retain_all=False, \n",
    "                              truncate_by_edge=False, clean_periphery=True, custom_filter=None)\n",
    "\n",
    "#project to web mercator\n",
    "    G = ox.project_graph(G,to_crs='epsg:3857')\n",
    "\n",
    "#convert nodes and edges to geodata frames\n",
    "    gdf_nodes,gdf_edges = ox.graph_to_gdfs(G)\n",
    "   \n",
    "    # establishing centroid\n",
    "    minx,miny,maxx,maxy = gdf_nodes.geometry.total_bounds\n",
    "    centroid_x = (maxx-minx)/2 + minx\n",
    "    centroid_y = (maxy-miny)/2 + miny\n",
    "    \n",
    "    # selecting closest node\n",
    "    center_node = ox.get_nearest_node(G, \n",
    "                                  (centroid_y,centroid_x), \n",
    "                                  method = 'euclidean')\n",
    "    \n",
    "    # isochrone building\n",
    "    gdf_edges['walk_time'] = gdf_edges['length']/meters_per_minute\n",
    "    \n",
    "    iso_colors = ox.plot.get_colors(n=len(trip_times),\n",
    "                                   cmap = 'plasma',\n",
    "                                   start = 0,\n",
    "                                   return_hex = True)\n",
    "    trip_times.sort(reverse = True)\n",
    "    time_color = list(zip(trip_times,iso_colors))\n",
    "    time_color\n",
    "    gdf_nodes,gdf_edges = ox.graph_to_gdfs(G)\n",
    "    \n",
    "    # legend\n",
    "    for time, color in list(time_color):\n",
    "        subgraph = nx.ego_graph(G,center_node, radius = time, distance = 'time')\n",
    "        for node in subgraph.nodes():\n",
    "            gdf_nodes.loc[node,'time'] = str(time)+' mins'\n",
    "            gdf_nodes.loc[node,'color'] = color\n",
    "    gdf_nodes['color'].fillna('#cccccc', inplace = True)  \n",
    "    isochrones = gdf_nodes.dissolve('time')\n",
    "    isochrones = isochrones.convex_hull.reset_index()\n",
    "    isochrones.columns = ['time', 'geometry']\n",
    "    \n",
    "    \n",
    "    fig, ax = plt.subplots(figsize=(10,10))\n",
    "    \n",
    "    gdf_edges.plot(ax=ax, linewidth = 0.75, alpha = 0.2, edgecolor = 'gainsboro', zorder = 10)\n",
    "    gdf_nodes.loc[[center_node]].plot(ax=ax, color = 'g', zorder = 30)\n",
    "    \n",
    "    \n",
    "    # add isochrones\n",
    "    isochrones.plot(alpha = 0.4, ax = ax, column = 'time', cmap = 'viridis', legend = True, zorder = 20)\n",
    "    ax. axis('off')\n",
    "    ax.set_title('Walksheds from LA Metro Bus Stop' + row['STOPNAME'])\n",
    "    \n",
    "    # basemap\n",
    "    ctx.add_basemap(ax,source = ctx.providers.CartoDB.Positron)\n",
    "        \n",
    "            "
   ]
  },
  {
   "cell_type": "code",
   "execution_count": null,
   "metadata": {},
   "outputs": [],
   "source": [
    "for index, row in busELY.iterrows():\n",
    "    center_point = row[4],row[5]\n",
    "    isomap(busELY)"
   ]
  },
  {
   "cell_type": "code",
   "execution_count": null,
   "metadata": {},
   "outputs": [],
   "source": []
  },
  {
   "cell_type": "code",
   "execution_count": null,
   "metadata": {},
   "outputs": [],
   "source": []
  },
  {
   "cell_type": "code",
   "execution_count": null,
   "metadata": {},
   "outputs": [],
   "source": []
  },
  {
   "cell_type": "code",
   "execution_count": null,
   "metadata": {},
   "outputs": [],
   "source": []
  },
  {
   "cell_type": "code",
   "execution_count": null,
   "metadata": {},
   "outputs": [],
   "source": []
  },
  {
   "cell_type": "code",
   "execution_count": null,
   "metadata": {},
   "outputs": [],
   "source": []
  },
  {
   "cell_type": "code",
   "execution_count": null,
   "metadata": {},
   "outputs": [],
   "source": []
  },
  {
   "cell_type": "code",
   "execution_count": null,
   "metadata": {},
   "outputs": [],
   "source": []
  },
  {
   "cell_type": "code",
   "execution_count": null,
   "metadata": {},
   "outputs": [],
   "source": []
  }
 ],
 "metadata": {
  "kernelspec": {
   "display_name": "Python 3",
   "language": "python",
   "name": "python3"
  },
  "language_info": {
   "codemirror_mode": {
    "name": "ipython",
    "version": 3
   },
   "file_extension": ".py",
   "mimetype": "text/x-python",
   "name": "python",
   "nbconvert_exporter": "python",
   "pygments_lexer": "ipython3",
   "version": "3.8.5"
  },
  "toc": {
   "base_numbering": 1,
   "nav_menu": {},
   "number_sections": true,
   "sideBar": true,
   "skip_h1_title": false,
   "title_cell": "Table of Contents",
   "title_sidebar": "Contents",
   "toc_cell": false,
   "toc_position": {},
   "toc_section_display": true,
   "toc_window_display": false
  }
 },
 "nbformat": 4,
 "nbformat_minor": 4
}
